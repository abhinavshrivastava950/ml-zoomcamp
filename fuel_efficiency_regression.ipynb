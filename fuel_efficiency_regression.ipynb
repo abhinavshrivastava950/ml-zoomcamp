{
  "nbformat": 4,
  "nbformat_minor": 0,
  "metadata": {
    "colab": {
      "provenance": []
    },
    "kernelspec": {
      "name": "python3",
      "display_name": "Python 3"
    },
    "language_info": {
      "name": "python"
    }
  },
  "cells": [
    {
      "cell_type": "code",
      "execution_count": 1,
      "metadata": {
        "id": "QlXgtyiJ7Y32"
      },
      "outputs": [],
      "source": [
        "import os\n",
        "import requests\n",
        "import io\n",
        "import numpy as np\n",
        "import pandas as pd\n",
        "from sklearn.linear_model import LinearRegression, Ridge\n",
        "from sklearn.metrics import mean_squared_error"
      ]
    },
    {
      "cell_type": "code",
      "source": [
        "url = \"https://raw.githubusercontent.com/alexeygrigorev/datasets/master/car_fuel_efficiency.csv\"\n",
        "print(\"Downloading dataset...\")\n",
        "r = requests.get(url)\n",
        "r.raise_for_status()\n",
        "df = pd.read_csv(io.StringIO(r.text))\n"
      ],
      "metadata": {
        "colab": {
          "base_uri": "https://localhost:8080/"
        },
        "id": "a1PytbSg7pFq",
        "outputId": "247b8291-5780-4b2c-a494-abea58ac8f50"
      },
      "execution_count": 2,
      "outputs": [
        {
          "output_type": "stream",
          "name": "stdout",
          "text": [
            "Downloading dataset...\n"
          ]
        }
      ]
    },
    {
      "cell_type": "code",
      "source": [
        "cols = ['engine_displacement', 'horsepower', 'vehicle_weight', 'model_year', 'fuel_efficiency_mpg']\n",
        "df = df[cols].copy()"
      ],
      "metadata": {
        "id": "anLQeSlR7uNn"
      },
      "execution_count": 3,
      "outputs": []
    },
    {
      "cell_type": "code",
      "source": [
        "for c in cols:\n",
        "    df[c] = pd.to_numeric(df[c], errors='coerce')"
      ],
      "metadata": {
        "id": "kaoO6-TG7xIc"
      },
      "execution_count": 4,
      "outputs": []
    },
    {
      "cell_type": "code",
      "source": [
        "print(\"\\n--- EDA ---\")\n",
        "print(\"fuel_efficiency_mpg summary:\")\n",
        "print(df['fuel_efficiency_mpg'].describe())\n",
        "\n",
        "skewness = df['fuel_efficiency_mpg'].skew()\n",
        "print(f\"Skewness of fuel_efficiency_mpg: {skewness:.3f}\")\n",
        "if skewness > 1:\n",
        "    print(\"This suggests a long (right) tail.\")\n",
        "elif skewness < -1:\n",
        "    print(\"This suggests a long left tail.\")\n",
        "else:\n",
        "    print(\"No very long tail indicated by skewness.\")"
      ],
      "metadata": {
        "colab": {
          "base_uri": "https://localhost:8080/"
        },
        "id": "yLfArdIV72Bn",
        "outputId": "c75127b2-e7c1-4cb1-df68-7474f94b0df5"
      },
      "execution_count": 5,
      "outputs": [
        {
          "output_type": "stream",
          "name": "stdout",
          "text": [
            "\n",
            "--- EDA ---\n",
            "fuel_efficiency_mpg summary:\n",
            "count    9704.000000\n",
            "mean       14.985243\n",
            "std         2.556468\n",
            "min         6.200971\n",
            "25%        13.267459\n",
            "50%        15.006037\n",
            "75%        16.707965\n",
            "max        25.967222\n",
            "Name: fuel_efficiency_mpg, dtype: float64\n",
            "Skewness of fuel_efficiency_mpg: -0.012\n",
            "No very long tail indicated by skewness.\n"
          ]
        }
      ]
    },
    {
      "cell_type": "code",
      "source": [
        "print(\"\\n--- Missing values per column ---\")\n",
        "na_counts = df.isna().sum()\n",
        "print(na_counts)\n",
        "\n",
        "q1_col = na_counts[na_counts > 0].index.tolist()\n",
        "print(\"\\nAnswer Q1: Column(s) with missing values:\", q1_col)"
      ],
      "metadata": {
        "colab": {
          "base_uri": "https://localhost:8080/"
        },
        "id": "3_5QlVSl8DjO",
        "outputId": "b80615ca-ed6c-4c4f-d431-fb93249c85d0"
      },
      "execution_count": 6,
      "outputs": [
        {
          "output_type": "stream",
          "name": "stdout",
          "text": [
            "\n",
            "--- Missing values per column ---\n",
            "engine_displacement      0\n",
            "horsepower             708\n",
            "vehicle_weight           0\n",
            "model_year               0\n",
            "fuel_efficiency_mpg      0\n",
            "dtype: int64\n",
            "\n",
            "Answer Q1: Column(s) with missing values: ['horsepower']\n"
          ]
        }
      ]
    },
    {
      "cell_type": "code",
      "source": [
        "if len(q1_col) == 1:\n",
        "    print(\"Q1 final answer:\", q1_col[0])\n",
        "else:\n",
        "    print(\"Q1 final answer (multiple):\", q1_col)"
      ],
      "metadata": {
        "colab": {
          "base_uri": "https://localhost:8080/"
        },
        "id": "9N4JhYzx8JxX",
        "outputId": "28552686-0076-4138-b10d-1d7d5fa4ec5f"
      },
      "execution_count": 7,
      "outputs": [
        {
          "output_type": "stream",
          "name": "stdout",
          "text": [
            "Q1 final answer: horsepower\n"
          ]
        }
      ]
    },
    {
      "cell_type": "code",
      "source": [
        "median_hp = df['horsepower'].median()\n",
        "print(f\"\\nAnswer Q2: median(horsepower) = {median_hp}\")"
      ],
      "metadata": {
        "colab": {
          "base_uri": "https://localhost:8080/"
        },
        "id": "WSSfBKNv8Rjl",
        "outputId": "4a598919-9f89-401d-b76e-b2d7f8babc2b"
      },
      "execution_count": 8,
      "outputs": [
        {
          "output_type": "stream",
          "name": "stdout",
          "text": [
            "\n",
            "Answer Q2: median(horsepower) = 149.0\n"
          ]
        }
      ]
    },
    {
      "cell_type": "code",
      "source": [
        "def split_data(df_filtered, seed=42):\n",
        "    n = len(df_filtered)\n",
        "    idx = np.arange(n)\n",
        "    rng = np.random.RandomState(seed)\n",
        "    rng.shuffle(idx)\n",
        "\n",
        "    n_train = int(0.6 * n)\n",
        "    n_val = int(0.2 * n)\n",
        "    n_test = n - n_train - n_val\n",
        "\n",
        "    train_idx = idx[:n_train]\n",
        "    val_idx = idx[n_train:n_train + n_val]\n",
        "    test_idx = idx[n_train + n_val:]\n",
        "\n",
        "    df_train = df_filtered.iloc[train_idx].reset_index(drop=True)\n",
        "    df_val = df_filtered.iloc[val_idx].reset_index(drop=True)\n",
        "    df_test = df_filtered.iloc[test_idx].reset_index(drop=True)\n",
        "\n",
        "    return df_train, df_val, df_test"
      ],
      "metadata": {
        "id": "9PlXV3lr8bV3"
      },
      "execution_count": 9,
      "outputs": []
    },
    {
      "cell_type": "code",
      "source": [
        "FEATURES = ['engine_displacement', 'horsepower', 'vehicle_weight', 'model_year']\n",
        "TARGET = 'fuel_efficiency_mpg'"
      ],
      "metadata": {
        "id": "lFkynvs08flE"
      },
      "execution_count": 10,
      "outputs": []
    },
    {
      "cell_type": "code",
      "source": [
        "def train_and_eval(df_train, df_val, fill_strategy='zero', reg=None):\n",
        "    X_train = df_train[FEATURES].copy()\n",
        "    X_val = df_val[FEATURES].copy()\n",
        "    y_train = df_train[TARGET].values\n",
        "    y_val = df_val[TARGET].values\n",
        "\n",
        "    if fill_strategy == 'zero':\n",
        "        X_train = X_train.fillna(0)\n",
        "        X_val = X_val.fillna(0)\n",
        "    elif fill_strategy == 'mean':\n",
        "        means = X_train.mean()\n",
        "        X_train = X_train.fillna(means)\n",
        "        X_val = X_val.fillna(means)\n",
        "    else:\n",
        "        raise ValueError(\"fill_strategy must be 'zero' or 'mean'\")\n",
        "\n",
        "    if reg is None or reg == 0:\n",
        "        model = LinearRegression()\n",
        "    else:\n",
        "        model = Ridge(alpha=reg, random_state=0)\n",
        "\n",
        "    model.fit(X_train, y_train)\n",
        "    preds = model.predict(X_val)\n",
        "    rmse = mean_squared_error(y_val, preds)**0.5\n",
        "    return rmse"
      ],
      "metadata": {
        "id": "RzIZA2In8g3F"
      },
      "execution_count": 16,
      "outputs": []
    },
    {
      "cell_type": "code",
      "source": [
        "print(\"\\n--- Question 3: missing-value strategy comparison ---\")\n",
        "seed = 42\n",
        "df_train, df_val, df_test = split_data(df, seed=seed)\n",
        "\n",
        "rmse_zero = train_and_eval(df_train, df_val, fill_strategy='zero', reg=None)\n",
        "rmse_mean = train_and_eval(df_train, df_val, fill_strategy='mean', reg=None)\n",
        "\n",
        "print(\"RMSE (fill with 0):\", round(rmse_zero, 2))\n",
        "print(\"RMSE (fill with mean):\", round(rmse_mean, 2))\n",
        "\n",
        "if round(rmse_zero, 2) < round(rmse_mean, 2):\n",
        "    q3_answer = \"With 0\"\n",
        "elif round(rmse_mean, 2) < round(rmse_zero, 2):\n",
        "    q3_answer = \"With mean\"\n",
        "else:\n",
        "    q3_answer = \"Both are equally good\"\n",
        "\n",
        "print(\"Answer Q3:\", q3_answer)"
      ],
      "metadata": {
        "colab": {
          "base_uri": "https://localhost:8080/"
        },
        "id": "1D3_djkT8qP7",
        "outputId": "15f437b7-3842-4a2a-ca6f-c7f3ac0ccc80"
      },
      "execution_count": 17,
      "outputs": [
        {
          "output_type": "stream",
          "name": "stdout",
          "text": [
            "\n",
            "--- Question 3: missing-value strategy comparison ---\n",
            "RMSE (fill with 0): 0.52\n",
            "RMSE (fill with mean): 0.46\n",
            "Answer Q3: With mean\n"
          ]
        }
      ]
    },
    {
      "cell_type": "code",
      "source": [
        "print(\"\\n--- Question 4: regularized linear regression (fill NA with 0) ---\")\n",
        "r_list = [0, 0.01, 0.1, 1, 5, 10, 100]\n",
        "rmse_by_r = {}\n",
        "for r in r_list:\n",
        "    reg = None if r == 0 else r\n",
        "    rmse = train_and_eval(df_train, df_val, fill_strategy='zero', reg=reg)\n",
        "    rmse_by_r[r] = round(rmse, 2)\n",
        "    print(f\"r={r} -> RMSE={rmse_by_r[r]}\")\n",
        "\n",
        "best_r = min(rmse_by_r.items(), key=lambda x: (x[1], x[0]))[0]\n",
        "print(\"Answer Q4: best r =\", best_r)"
      ],
      "metadata": {
        "colab": {
          "base_uri": "https://localhost:8080/"
        },
        "id": "J7lZ-GAr-C6w",
        "outputId": "f084ecab-c5d8-4f47-d22c-f318ec0bf6ad"
      },
      "execution_count": 18,
      "outputs": [
        {
          "output_type": "stream",
          "name": "stdout",
          "text": [
            "\n",
            "--- Question 4: regularized linear regression (fill NA with 0) ---\n",
            "r=0 -> RMSE=0.52\n",
            "r=0.01 -> RMSE=0.52\n",
            "r=0.1 -> RMSE=0.52\n",
            "r=1 -> RMSE=0.52\n",
            "r=5 -> RMSE=0.52\n",
            "r=10 -> RMSE=0.52\n",
            "r=100 -> RMSE=0.52\n",
            "Answer Q4: best r = 0\n"
          ]
        }
      ]
    },
    {
      "cell_type": "code",
      "source": [
        "print(\"\\n--- Question 5: effect of seed on RMSE ---\")\n",
        "seeds = list(range(10))\n",
        "rmse_seeds = []\n",
        "for s in seeds:\n",
        "    tr, va, te = split_data(df, seed=s)\n",
        "    rmse_s = train_and_eval(tr, va, fill_strategy='zero', reg=None)\n",
        "    rmse_seeds.append(rmse_s)\n",
        "    print(f\"seed={s} -> RMSE={rmse_s:.6f}\")\n",
        "\n",
        "std_rmse = float(np.std(rmse_seeds))\n",
        "print(\"Standard deviation of RMSEs across seeds:\", round(std_rmse, 3))\n",
        "print(\"Answer Q5:\", round(std_rmse, 3))"
      ],
      "metadata": {
        "colab": {
          "base_uri": "https://localhost:8080/"
        },
        "id": "vZ-LNq0S-Lfl",
        "outputId": "e67b91cc-11a7-4395-b5bb-b3dbde8e3847"
      },
      "execution_count": 19,
      "outputs": [
        {
          "output_type": "stream",
          "name": "stdout",
          "text": [
            "\n",
            "--- Question 5: effect of seed on RMSE ---\n",
            "seed=0 -> RMSE=0.521099\n",
            "seed=1 -> RMSE=0.521842\n",
            "seed=2 -> RMSE=0.523038\n",
            "seed=3 -> RMSE=0.516122\n",
            "seed=4 -> RMSE=0.511187\n",
            "seed=5 -> RMSE=0.528683\n",
            "seed=6 -> RMSE=0.532242\n",
            "seed=7 -> RMSE=0.509526\n",
            "seed=8 -> RMSE=0.514908\n",
            "seed=9 -> RMSE=0.513133\n",
            "Standard deviation of RMSEs across seeds: 0.007\n",
            "Answer Q5: 0.007\n"
          ]
        }
      ]
    },
    {
      "cell_type": "code",
      "source": [
        "print(\"\\n--- Question 6: final model and test RMSE ---\")\n",
        "seed = 9\n",
        "df_train, df_val, df_test = split_data(df, seed=seed)\n",
        "\n",
        "df_train_val = pd.concat([df_train, df_val], ignore_index=True)\n",
        "\n",
        "r = 0.001\n",
        "X_train_val = df_train_val[FEATURES].fillna(0)\n",
        "y_train_val = df_train_val[TARGET].values\n",
        "X_test = df_test[FEATURES].fillna(0)\n",
        "y_test = df_test[TARGET].values\n",
        "\n",
        "model_final = Ridge(alpha=r, random_state=0)\n",
        "model_final.fit(X_train_val, y_train_val)\n",
        "preds_test = model_final.predict(X_test)\n",
        "mse_test = mean_squared_error(y_test, preds_test)\n",
        "rmse_test = mse_test ** 0.5\n",
        "print(f\"Test RMSE (seed=9, r=0.001, fill=0): {rmse_test:.6f}\")\n",
        "print(\"Answer Q6 (rounded where appropriate):\", round(rmse_test, 3))"
      ],
      "metadata": {
        "colab": {
          "base_uri": "https://localhost:8080/"
        },
        "id": "A0jpE0M--Q5T",
        "outputId": "a5aa9fc3-baf7-47be-8192-5145be0a1c37"
      },
      "execution_count": 23,
      "outputs": [
        {
          "output_type": "stream",
          "name": "stdout",
          "text": [
            "\n",
            "--- Question 6: final model and test RMSE ---\n",
            "Test RMSE (seed=9, r=0.001, fill=0): 0.515492\n",
            "Answer Q6 (rounded where appropriate): 0.515\n"
          ]
        }
      ]
    }
  ]
}
