{
  "nbformat": 4,
  "nbformat_minor": 0,
  "metadata": {
    "colab": {
      "provenance": []
    },
    "kernelspec": {
      "name": "python3",
      "display_name": "Python 3"
    },
    "language_info": {
      "name": "python"
    }
  },
  "cells": [
    {
      "cell_type": "markdown",
      "metadata": {},
      "source": [
        "# ML Zoomcamp - Homework 01: Introduction to Machine Learning\n",
        "\n",
        "This notebook contains the solutions for the first homework assignment of the ML Zoomcamp course by DataTalks.Club.\n",
        "\n",
        "**Dataset**: Car Fuel Efficiency Dataset\n",
        "**Topics Covered**: Data exploration, basic statistics, linear algebra operations"
      ]
    },
    {
      "cell_type": "code",
      "execution_count": 1,
      "metadata": {
        "colab": {
          "base_uri": "https://localhost:8080/"
        },
        "id": "1roN6c0w2b6r",
        "outputId": "282a8473-d90c-4524-c896-676435b8c45a"
      },
      "outputs": [
        {
          "output_type": "stream",
          "name": "stdout",
          "text": [
            "Requirement already satisfied: numpy in /usr/local/lib/python3.12/dist-packages (2.0.2)\n",
            "Requirement already satisfied: pandas in /usr/local/lib/python3.12/dist-packages (2.2.2)\n",
            "Requirement already satisfied: matplotlib in /usr/local/lib/python3.12/dist-packages (3.10.0)\n",
            "Requirement already satisfied: seaborn in /usr/local/lib/python3.12/dist-packages (0.13.2)\n",
            "Requirement already satisfied: python-dateutil>=2.8.2 in /usr/local/lib/python3.12/dist-packages (from pandas) (2.9.0.post0)\n",
            "Requirement already satisfied: pytz>=2020.1 in /usr/local/lib/python3.12/dist-packages (from pandas) (2025.2)\n",
            "Requirement already satisfied: tzdata>=2022.7 in /usr/local/lib/python3.12/dist-packages (from pandas) (2025.2)\n",
            "Requirement already satisfied: contourpy>=1.0.1 in /usr/local/lib/python3.12/dist-packages (from matplotlib) (1.3.3)\n",
            "Requirement already satisfied: cycler>=0.10 in /usr/local/lib/python3.12/dist-packages (from matplotlib) (0.12.1)\n",
            "Requirement already satisfied: fonttools>=4.22.0 in /usr/local/lib/python3.12/dist-packages (from matplotlib) (4.60.0)\n",
            "Requirement already satisfied: kiwisolver>=1.3.1 in /usr/local/lib/python3.12/dist-packages (from matplotlib) (1.4.9)\n",
            "Requirement already satisfied: packaging>=20.0 in /usr/local/lib/python3.12/dist-packages (from matplotlib) (25.0)\n",
            "Requirement already satisfied: pillow>=8 in /usr/local/lib/python3.12/dist-packages (from matplotlib) (11.3.0)\n",
            "Requirement already satisfied: pyparsing>=2.3.1 in /usr/local/lib/python3.12/dist-packages (from matplotlib) (3.2.4)\n",
            "Requirement already satisfied: six>=1.5 in /usr/local/lib/python3.12/dist-packages (from python-dateutil>=2.8.2->pandas) (1.17.0)\n"
          ]
        }
      ],
      "source": [
        "# Install required packages\n",
        "!pip install numpy pandas matplotlib seaborn\n",
        "\n",
        "# Import libraries\n",
        "import numpy as np\n",
        "import pandas as pd\n",
        "import matplotlib.pyplot as plt\n",
        "import seaborn as sns"
      ]
    },
    {
      "cell_type": "code",
      "source": [
        "# Check pandas version\n",
        "print(\"Pandas version:\", pd.__version__)"
      ],
      "metadata": {
        "colab": {
          "base_uri": "https://localhost:8080/"
        },
        "id": "qxpqSfWV2mZk",
        "outputId": "6e962125-3858-44dd-abc1-275d673e78f6"
      },
      "execution_count": 2,
      "outputs": [
        {
          "output_type": "stream",
          "name": "stdout",
          "text": [
            "Pandas version: 2.2.2\n"
          ]
        }
      ]
    },
    {
      "cell_type": "markdown",
      "metadata": {},
      "source": [
        "## Question 1: Pandas Version\n",
        "\n",
        "What's the version of Pandas that you installed?\n",
        "\n",
        "**Answer**: The Pandas version is displayed above."
      ]
    },
    {
      "cell_type": "code",
      "source": [
        "# Download and load the dataset\n",
        "!wget -q https://raw.githubusercontent.com/alexeygrigorev/datasets/master/car_fuel_efficiency.csv -O car_fuel_efficiency.csv\n",
        "\n",
        "df = pd.read_csv(\"car_fuel_efficiency.csv\")\n",
        "print(\"\\nDataset loaded. Shape:\", df.shape)"
      ],
      "metadata": {
        "colab": {
          "base_uri": "https://localhost:8080/"
        },
        "id": "cEvEjWHm2pa8",
        "outputId": "78c7c1e8-5cd2-43de-b7fd-72a108f3684f"
      },
      "execution_count": 3,
      "outputs": [
        {
          "output_type": "stream",
          "name": "stdout",
          "text": [
            "\n",
            "Dataset loaded. Shape: (9704, 11)\n"
          ]
        }
      ]
    },
    {
      "cell_type": "code",
      "source": [
        "# Explore the dataset structure\n",
        "print(\"First few rows of the dataset:\")\n",
        "print(df.head())"
      ],
      "metadata": {
        "colab": {
          "base_uri": "https://localhost:8080/"
        },
        "id": "A8D2oq9c3COH",
        "outputId": "19741169-b4f6-4433-e04e-ab7df05f5a78"
      },
      "execution_count": 8,
      "outputs": [
        {
          "output_type": "stream",
          "name": "stdout",
          "text": [
            "First few rows of the dataset:\n",
            "   engine_displacement  num_cylinders  horsepower  vehicle_weight  \\\n",
            "0                  170            3.0       159.0     3413.433759   \n",
            "1                  130            5.0        97.0     3149.664934   \n",
            "2                  170            NaN        78.0     3079.038997   \n",
            "3                  220            4.0         NaN     2542.392402   \n",
            "4                  210            1.0       140.0     3460.870990   \n",
            "\n",
            "   acceleration  model_year  origin fuel_type         drivetrain  num_doors  \\\n",
            "0          17.7        2003  Europe  Gasoline    All-wheel drive        0.0   \n",
            "1          17.8        2007     USA  Gasoline  Front-wheel drive        0.0   \n",
            "2          15.1        2018  Europe  Gasoline  Front-wheel drive        0.0   \n",
            "3          20.2        2009     USA    Diesel    All-wheel drive        2.0   \n",
            "4          14.4        2009  Europe  Gasoline    All-wheel drive        2.0   \n",
            "\n",
            "   fuel_efficiency_mpg  \n",
            "0            13.231729  \n",
            "1            13.688217  \n",
            "2            14.246341  \n",
            "3            16.912736  \n",
            "4            12.488369  \n"
          ]
        }
      ]
    },
    {
      "cell_type": "markdown",
      "metadata": {},
      "source": [
        "## Question 2: Records Count\n",
        "\n",
        "How many records are in the dataset?"
      ]
    },
    {
      "cell_type": "code",
      "source": [
        "# Count number of records\n",
        "print(\"Number of records:\", len(df))"
      ],
      "metadata": {
        "colab": {
          "base_uri": "https://localhost:8080/"
        },
        "id": "HyeE_KcA2tyj",
        "outputId": "ebb815e8-649c-44a9-8573-07e9861b52cf"
      },
      "execution_count": 4,
      "outputs": [
        {
          "output_type": "stream",
          "name": "stdout",
          "text": [
            "Number of records: 9704\n"
          ]
        }
      ]
    },
    {
      "cell_type": "markdown",
      "metadata": {},
      "source": [
        "**Answer**: There are **9,704** records in the dataset."
      ]
    },
    {
      "cell_type": "markdown",
      "metadata": {},
      "source": [
        "## Question 3: Fuel Types\n",
        "\n",
        "How many different fuel types are there in the dataset?"
      ]
    },
    {
      "cell_type": "code",
      "source": [
        "# Count unique fuel types\n",
        "print(\"Number of unique fuel types:\", df['fuel_type'].nunique())\n",
        "print(\"Fuel types:\", df['fuel_type'].unique())"
      ],
      "metadata": {
        "colab": {
          "base_uri": "https://localhost:8080/"
        },
        "id": "O29b6qtu2yGr",
        "outputId": "2383e74d-c501-4589-bfb7-2e5337d930f0"
      },
      "execution_count": 5,
      "outputs": [
        {
          "output_type": "stream",
          "name": "stdout",
          "text": [
            "Number of unique fuel types: 2\n",
            "Fuel types: ['Gasoline' 'Diesel']\n"
          ]
        }
      ]
    },
    {
      "cell_type": "markdown",
      "metadata": {},
      "source": [
        "**Answer**: There are **2** different fuel types: Gasoline and Diesel."
      ]
    },
    {
      "cell_type": "markdown",
      "metadata": {},
      "source": [
        "## Question 4: Missing Values\n",
        "\n",
        "How many columns in the dataset have missing values?"
      ]
    },
    {
      "cell_type": "code",
      "source": [
        "# Find columns with missing values\n",
        "missing_cols = df.columns[df.isnull().any()].tolist()\n",
        "print(\"Columns with missing values:\", missing_cols)\n",
        "print(\"Count:\", len(missing_cols))"
      ],
      "metadata": {
        "colab": {
          "base_uri": "https://localhost:8080/"
        },
        "id": "GOdWJsvK2zbn",
        "outputId": "68ac00ca-6969-4b85-cf2e-eedf060046c8"
      },
      "execution_count": 6,
      "outputs": [
        {
          "output_type": "stream",
          "name": "stdout",
          "text": [
            "Columns with missing values: ['num_cylinders', 'horsepower', 'acceleration', 'num_doors']\n",
            "Count: 4\n"
          ]
        }
      ]
    },
    {
      "cell_type": "markdown",
      "metadata": {},
      "source": [
        "**Answer**: **4** columns have missing values: num_cylinders, horsepower, acceleration, and num_doors."
      ]
    },
    {
      "cell_type": "markdown",
      "metadata": {},
      "source": [
        "## Question 5: Maximum Fuel Efficiency for Asia Cars\n",
        "\n",
        "What's the maximum fuel efficiency (mpg) for cars from Asia?"
      ]
    },
    {
      "cell_type": "code",
      "source": [
        "# Filter Asia cars and find max fuel efficiency\n",
        "asia_cars = df[df['origin'] == 'Asia']\n",
        "max_eff = asia_cars['fuel_efficiency_mpg'].max()\n",
        "print(\"Max fuel efficiency for Asia cars:\", max_eff)"
      ],
      "metadata": {
        "colab": {
          "base_uri": "https://localhost:8080/"
        },
        "id": "DiQMLJrd24LA",
        "outputId": "b19ec389-af8b-49f7-d2fc-3c63174fb423"
      },
      "execution_count": 9,
      "outputs": [
        {
          "output_type": "stream",
          "name": "stdout",
          "text": [
            "Max fuel efficiency for Asia cars: 23.759122836520497\n"
          ]
        }
      ]
    },
    {
      "cell_type": "markdown",
      "metadata": {},
      "source": [
        "**Answer**: The maximum fuel efficiency for cars from Asia is **23.76 mpg**."
      ]
    },
    {
      "cell_type": "markdown",
      "metadata": {},
      "source": [
        "## Question 6: Missing Values Imputation\n",
        "\n",
        "1. Select all the cars from Asia origin.\n",
        "2. Fill the missing values in horsepower column with the mode (most frequent value) of that column.\n",
        "3. Did the median value of horsepower change after filling the missing values?\n",
        "\n",
        "**Options**:\n",
        "- Yes\n",
        "- No"
      ]
    },
    {
      "cell_type": "code",
      "source": [
        "# Calculate median before filling missing values\n",
        "median_hp_before = df['horsepower'].median()\n",
        "\n",
        "# Find mode of horsepower\n",
        "mode_hp = df['horsepower'].mode()[0]\n",
        "\n",
        "# Fill missing values with mode\n",
        "filled_df = df.copy()\n",
        "filled_df['horsepower'] = filled_df['horsepower'].fillna(mode_hp)\n",
        "\n",
        "# Calculate median after filling\n",
        "median_hp_after = filled_df['horsepower'].median()\n",
        "\n",
        "print(\"Median horsepower before:\", median_hp_before)\n",
        "print(\"Mode horsepower:\", mode_hp)\n",
        "print(\"Median horsepower after filling:\", median_hp_after)\n",
        "print(\"Has median changed?\", \"Yes\" if median_hp_before != median_hp_after else \"No\")"
      ],
      "metadata": {
        "colab": {
          "base_uri": "https://localhost:8080/"
        },
        "id": "vP5nKGOe3QM3",
        "outputId": "f904782f-910f-4576-d53f-4ef4a5e75aeb"
      },
      "execution_count": 10,
      "outputs": [
        {
          "output_type": "stream",
          "name": "stdout",
          "text": [
            "Median horsepower before: 149.0\n",
            "Mode horsepower: 152.0\n",
            "Median horsepower after filling: 152.0\n",
            "Has median changed? Yes\n"
          ]
        }
      ]
    },
    {
      "cell_type": "markdown",
      "metadata": {},
      "source": [
        "**Answer**: **Yes**, the median value of horsepower changed from 149.0 to 152.0 after filling the missing values with the mode."
      ]
    },
    {
      "cell_type": "markdown",
      "metadata": {},
      "source": [
        "## Question 7: Linear Algebra\n",
        "\n",
        "1. Select all the cars from Asia origin.\n",
        "2. Select the first 7 rows of that dataset.\n",
        "3. Select only columns `vehicle_weight` and `model_year`.\n",
        "4. Make matrix X from that data.\n",
        "5. Compute matrix-matrix multiplication between the transpose of X and X. To get the transpose, use `X.T`.\n",
        "6. Compute the inverse of this matrix.\n",
        "7. Create array y with values `[1100, 1300, 800, 900, 1000, 1100, 1200]`.\n",
        "8. Multiply the inverse of matrix with the transpose of X, and then multiply the result by y.\n",
        "9. What's the sum of all the elements of the result?\n",
        "\n",
        "**Note**: You just implemented linear regression. We'll talk about it in the next lesson."
      ]
    },
    {
      "cell_type": "code",
      "source": [
        "# Step 1-3: Select Asia cars, first 7 rows, and specific columns\n",
        "asia_subset = asia_cars[['vehicle_weight', 'model_year']].head(7)\n",
        "print(\"Asia subset (first 7 rows):\")\n",
        "print(asia_subset)\n",
        "\n",
        "# Step 4: Make matrix X\n",
        "X = asia_subset.values\n",
        "print(\"\\nMatrix X shape:\", X.shape)\n",
        "\n",
        "# Step 5: Compute X^T * X\n",
        "XTX = X.T.dot(X)\n",
        "print(\"\\nX^T * X:\")\n",
        "print(XTX)\n",
        "\n",
        "# Step 6: Compute inverse\n",
        "XTX_inv = np.linalg.inv(XTX)\n",
        "print(\"\\nInverse of X^T * X:\")\n",
        "print(XTX_inv)\n",
        "\n",
        "# Step 7: Create array y\n",
        "y = np.array([1100, 1300, 800, 900, 1000, 1100, 1200])\n",
        "print(\"\\nArray y:\", y)\n",
        "\n",
        "# Step 8: Compute (X^T * X)^-1 * X^T * y\n",
        "w = XTX_inv.dot(X.T).dot(y)\n",
        "print(\"\\nResult vector w:\", w)\n",
        "\n",
        "# Step 9: Sum of all elements\n",
        "print(\"\\nSum of elements in w:\", w.sum())"
      ],
      "metadata": {
        "colab": {
          "base_uri": "https://localhost:8080/"
        },
        "id": "hgV5EGWv3ise",
        "outputId": "447f944f-f647-4fa7-9626-837d43808fd6"
      },
      "execution_count": 11,
      "outputs": [
        {
          "output_type": "stream",
          "name": "stdout",
          "text": [
            "Asia subset (first 7 rows):\n",
            "     vehicle_weight  model_year\n",
            "114     2582.268908        2007\n",
            "217     2868.301989        2008\n",
            "274     2844.183871        2011\n",
            "285     3046.174623        2007\n",
            "300     2804.302133        2009\n",
            "314     2804.302133        2009\n",
            "318     2582.268908        2007\n",
            "\n",
            "Matrix X shape: (7, 2)\n",
            "\n",
            "X^T * X:\n",
            "[[  55615276.01171306   14056573.49674436]\n",
            " [  14056573.49674436    4017059.        ]]\n",
            "\n",
            "Inverse of X^T * X:\n",
            "[[ 9.27296258e-08 -3.24393346e-06]\n",
            " [-3.24393346e-06  1.28405627e-04]]\n",
            "\n",
            "Array y: [1100 1300  800  900 1000 1100 1200]\n",
            "\n",
            "Result vector w: [  4.59494481 -0.07611356]\n",
            "\n",
            "Sum of elements in w: 4.518831246211617\n"
          ]
        }
      ]
    },
    {
      "cell_type": "markdown",
      "metadata": {},
      "source": [
        "**Answer**: The sum of all elements in the result vector is approximately **4.52**.\n",
        "\n",
        "---\n",
        "\n",
        "## Summary\n",
        "\n",
        "This homework covered basic data exploration and linear algebra operations using pandas and numpy:\n",
        "\n",
        "1. **Pandas Version**: 2.2.2\n",
        "2. **Records Count**: 9,704 records\n",
        "3. **Fuel Types**: 2 types (Gasoline, Diesel)\n",
        "4. **Missing Values**: 4 columns have missing values\n",
        "5. **Max Fuel Efficiency (Asia)**: 23.76 mpg\n",
        "6. **Median Change**: Yes, median changed after imputation\n",
        "7. **Linear Algebra Result**: Sum ≈ 4.52\n",
        "\n",
        "The exercise provided hands-on experience with data cleaning, exploration, and basic linear algebra operations that are fundamental to machine learning."
      ]
    }
  ]
}